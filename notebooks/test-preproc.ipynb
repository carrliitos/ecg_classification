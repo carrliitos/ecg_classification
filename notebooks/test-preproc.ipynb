{
 "cells": [
  {
   "cell_type": "code",
   "execution_count": 1,
   "id": "2b525de3-6de0-431e-bae8-6628c288f475",
   "metadata": {},
   "outputs": [],
   "source": [
    "import os\n",
    "import wfdb\n",
    "import pywt\n",
    "import numpy as np"
   ]
  },
  {
   "cell_type": "code",
   "execution_count": 9,
   "id": "a5761193-ea28-44a4-bcb1-7da30cd8804c",
   "metadata": {},
   "outputs": [],
   "source": [
    "data_root = '/home/carlitos/Documents/Projects/ecg_classification/data/raw/ecg-id-database-1.0.0'\n",
    "processed_data_dir = '/home/carlitos/Documents/Projects/ecg_classification/data/processed/'\n",
    "os.makedirs(processed_data_dir, exist_ok=True)"
   ]
  },
  {
   "cell_type": "code",
   "execution_count": 77,
   "id": "d69de022-9351-4f2a-a0be-82293d5ad34d",
   "metadata": {},
   "outputs": [],
   "source": [
    "wavelet = 'sym4'\n",
    "level = 4"
   ]
  },
  {
   "cell_type": "code",
   "execution_count": 87,
   "id": "8f117b0a-3903-45c8-bf12-eae3380a44c4",
   "metadata": {},
   "outputs": [],
   "source": [
    "def denoise_and_save_wfdb(record_path, save_path):\n",
    "    # Explicitly specify the file paths for .dat and .hea\n",
    "    dat_file = record_path + '.dat'\n",
    "    hea_file = record_path + '.hea'\n",
    "\n",
    "    if not os.path.exists(dat_file) or not os.path.exists(hea_file):\n",
    "        print(f\"Files not found for {record_path}\")\n",
    "        return\n",
    "\n",
    "    # Read the record from .dat file\n",
    "    record_signals, record_info = wfdb.rdsamp(record_path)\n",
    "\n",
    "    # Denoise each channel using symlet wavelet and universal threshold\n",
    "    denoised_signals = []\n",
    "    for channel in range(record_signals.shape[1]):\n",
    "        noisy_signal = record_signals[:, channel]\n",
    "        coeffs = pywt.wavedec(noisy_signal, symlet_wavelet, level=level)\n",
    "\n",
    "        # A universal threshold based on the noise standard deviation\n",
    "        threshold = np.sqrt(2 * np.log(len(noisy_signal))) * np.std(coeffs[-1])\n",
    "\n",
    "        # Threshold the wavelet coefficients\n",
    "        coeffs_thresholded = [pywt.threshold(c, threshold, mode='soft') for c in coeffs]\n",
    "\n",
    "        # Reconstruct the denoised signal\n",
    "        denoised_signal = pywt.waverec(coeffs_thresholded, symlet_wavelet)\n",
    "        denoised_signals.append(denoised_signal)\n",
    "\n",
    "    denoised_signals = np.array(denoised_signals).T\n",
    "\n",
    "    # Extract the record name from the file path\n",
    "    record_name = os.path.basename(record_path)\n",
    "\n",
    "    # Create a Record object\n",
    "    record = wfdb.Record(record_name=record_name, n_sig=record_signals.shape[1], fs=record_info['fs'])\n",
    "\n",
    "    # Set additional attributes manually\n",
    "    record.sig_name = record_info['sig_name']\n",
    "    record.units = record_info['units']\n",
    "    record.comments = record_info['comments']\n",
    "    record.fmt = [f'{record_info[\"fmt\"][i]}' if \"fmt\" in record_info else None for i in range(record.n_sig)]\n",
    "    record.samps_per_frame = record_info.get('samps_per_frame', None)\n",
    "    record.skew = record_info.get('skew', None)\n",
    "    record.byte_offset = record_info.get('byte_offset', None)\n",
    "    record.adc_gain = record_info.get('adc_gain', None)\n",
    "    record.baseline = record_info.get('baseline', None)\n",
    "\n",
    "    # Replace None values in d_signal with zeros\n",
    "    record.d_signal = np.nan_to_num(record.d_signal)\n",
    "\n",
    "    # Save the denoised signals in WFDB format using the set_p_signals method\n",
    "    record.p_signals = denoised_signals\n",
    "    record.sig_len = len(denoised_signals[0])\n",
    "    record.baseline = [0] * record.n_sig\n",
    "    record.record_name = os.path.basename(record_path).replace('.dat', '')\n",
    "    record.file_name = [os.path.basename(record_path)]\n",
    "    record.init_value = [0]\n",
    "\n",
    "    # Calculate the checksum\n",
    "    checksums = record.calc_checksum()\n",
    "    record.checksum = checksums\n",
    "    \n",
    "    # Save the denoised signals in WFDB format using the wrsamp method\n",
    "    record.wrsamp(write_dir=processed_data_dir)"
   ]
  },
  {
   "cell_type": "code",
   "execution_count": 88,
   "id": "c93d786a-adbf-4098-a2a4-fa760cfbd28a",
   "metadata": {},
   "outputs": [
    {
     "ename": "TypeError",
     "evalue": "unsupported operand type(s) for %: 'NoneType' and 'int'",
     "output_type": "error",
     "traceback": [
      "\u001b[0;31m---------------------------------------------------------------------------\u001b[0m",
      "\u001b[0;31mTypeError\u001b[0m                                 Traceback (most recent call last)",
      "Cell \u001b[0;32mIn[88], line 8\u001b[0m\n\u001b[1;32m      5\u001b[0m             save_path \u001b[38;5;241m=\u001b[39m os\u001b[38;5;241m.\u001b[39mpath\u001b[38;5;241m.\u001b[39mjoin(processed_data_dir, \u001b[38;5;124mf\u001b[39m\u001b[38;5;124m'\u001b[39m\u001b[38;5;132;01m{\u001b[39;00mos\u001b[38;5;241m.\u001b[39mpath\u001b[38;5;241m.\u001b[39mbasename(record_path)\u001b[38;5;132;01m}\u001b[39;00m\u001b[38;5;124m_denoised\u001b[39m\u001b[38;5;124m'\u001b[39m)\n\u001b[1;32m      7\u001b[0m             \u001b[38;5;66;03m# Perform denoising and save the processed data in WFDB format\u001b[39;00m\n\u001b[0;32m----> 8\u001b[0m             \u001b[43mdenoise_and_save_wfdb\u001b[49m\u001b[43m(\u001b[49m\u001b[43mrecord_path\u001b[49m\u001b[43m,\u001b[49m\u001b[43m \u001b[49m\u001b[43msave_path\u001b[49m\u001b[43m)\u001b[49m\n\u001b[1;32m     10\u001b[0m \u001b[38;5;28mprint\u001b[39m(\u001b[38;5;124m\"\u001b[39m\u001b[38;5;124mDenoising and saving in WFDB format completed.\u001b[39m\u001b[38;5;124m\"\u001b[39m)\n",
      "Cell \u001b[0;32mIn[87], line 60\u001b[0m, in \u001b[0;36mdenoise_and_save_wfdb\u001b[0;34m(record_path, save_path)\u001b[0m\n\u001b[1;32m     57\u001b[0m record\u001b[38;5;241m.\u001b[39minit_value \u001b[38;5;241m=\u001b[39m [\u001b[38;5;241m0\u001b[39m]\n\u001b[1;32m     59\u001b[0m \u001b[38;5;66;03m# Calculate the checksum\u001b[39;00m\n\u001b[0;32m---> 60\u001b[0m checksums \u001b[38;5;241m=\u001b[39m \u001b[43mrecord\u001b[49m\u001b[38;5;241;43m.\u001b[39;49m\u001b[43mcalc_checksum\u001b[49m\u001b[43m(\u001b[49m\u001b[43m)\u001b[49m\n\u001b[1;32m     61\u001b[0m record\u001b[38;5;241m.\u001b[39mchecksum \u001b[38;5;241m=\u001b[39m checksums\n\u001b[1;32m     63\u001b[0m \u001b[38;5;66;03m# Save the denoised signals in WFDB format using the wrsamp method\u001b[39;00m\n",
      "File \u001b[0;32m~/Documents/Projects/ecg_classification/venv/lib/python3.10/site-packages/wfdb/io/_signal.py:912\u001b[0m, in \u001b[0;36mSignalMixin.calc_checksum\u001b[0;34m(self, expanded)\u001b[0m\n\u001b[1;32m    910\u001b[0m     cs \u001b[38;5;241m=\u001b[39m [\u001b[38;5;28mint\u001b[39m(np\u001b[38;5;241m.\u001b[39msum(s) \u001b[38;5;241m%\u001b[39m \u001b[38;5;241m65536\u001b[39m) \u001b[38;5;28;01mfor\u001b[39;00m s \u001b[38;5;129;01min\u001b[39;00m \u001b[38;5;28mself\u001b[39m\u001b[38;5;241m.\u001b[39me_d_signal]\n\u001b[1;32m    911\u001b[0m \u001b[38;5;28;01melse\u001b[39;00m:\n\u001b[0;32m--> 912\u001b[0m     cs \u001b[38;5;241m=\u001b[39m \u001b[43mnp\u001b[49m\u001b[38;5;241;43m.\u001b[39;49m\u001b[43msum\u001b[49m\u001b[43m(\u001b[49m\u001b[38;5;28;43mself\u001b[39;49m\u001b[38;5;241;43m.\u001b[39;49m\u001b[43md_signal\u001b[49m\u001b[43m,\u001b[49m\u001b[43m \u001b[49m\u001b[38;5;241;43m0\u001b[39;49m\u001b[43m)\u001b[49m\u001b[43m \u001b[49m\u001b[38;5;241;43m%\u001b[39;49m\u001b[43m \u001b[49m\u001b[38;5;241;43m65536\u001b[39;49m\n\u001b[1;32m    913\u001b[0m     cs \u001b[38;5;241m=\u001b[39m [\u001b[38;5;28mint\u001b[39m(c) \u001b[38;5;28;01mfor\u001b[39;00m c \u001b[38;5;129;01min\u001b[39;00m cs]\n\u001b[1;32m    914\u001b[0m \u001b[38;5;28;01mreturn\u001b[39;00m cs\n",
      "\u001b[0;31mTypeError\u001b[0m: unsupported operand type(s) for %: 'NoneType' and 'int'"
     ]
    }
   ],
   "source": [
    "for root, dirs, files in os.walk(data_root):\n",
    "    for file in files:\n",
    "        if file.endswith('.hea'):\n",
    "            record_path = os.path.join(root, os.path.splitext(file)[0])\n",
    "            save_path = os.path.join(processed_data_dir, f'{os.path.basename(record_path)}_denoised')\n",
    "\n",
    "            # Perform denoising and save the processed data in WFDB format\n",
    "            denoise_and_save_wfdb(record_path, save_path)\n",
    "\n",
    "print(\"Denoising and saving in WFDB format completed.\")"
   ]
  }
 ],
 "metadata": {
  "kernelspec": {
   "display_name": "Python 3 (ipykernel)",
   "language": "python",
   "name": "python3"
  },
  "language_info": {
   "codemirror_mode": {
    "name": "ipython",
    "version": 3
   },
   "file_extension": ".py",
   "mimetype": "text/x-python",
   "name": "python",
   "nbconvert_exporter": "python",
   "pygments_lexer": "ipython3",
   "version": "3.10.12"
  }
 },
 "nbformat": 4,
 "nbformat_minor": 5
}
