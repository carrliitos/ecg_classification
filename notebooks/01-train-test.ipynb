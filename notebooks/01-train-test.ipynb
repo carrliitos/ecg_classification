{
 "cells": [
  {
   "cell_type": "markdown",
   "id": "aecb87a9-f882-4046-99fa-aa637cb36aec",
   "metadata": {},
   "source": [
    "## Load and Concatenate Data"
   ]
  },
  {
   "cell_type": "code",
   "execution_count": null,
   "id": "0fb02156-0c0c-4ec9-8615-06920e8abb98",
   "metadata": {},
   "outputs": [],
   "source": [
    "import os\n",
    "import pandas as pd\n",
    "\n",
    "processed_data_directory = '../data/processed/ecg-id-database-1.0.0/'\n",
    "dfs = []\n",
    "\n",
    "for csv_file in os.listdir(processed_data_directory):\n",
    "    if csv_file.endswith('.csv'):\n",
    "        csv_file_path = os.path.join(processed_data_directory, csv_file)\n",
    "        df = pd.read_csv(csv_file_path)\n",
    "        dfs.append(df)\n",
    "\n",
    "full_dataset = pd.concat(dfs, ignore_index=True)"
   ]
  },
  {
   "cell_type": "markdown",
   "id": "b21ec5d0-28be-4b22-8a49-0e2b7d3450b5",
   "metadata": {},
   "source": [
    "## Prepare Features and Labels"
   ]
  },
  {
   "cell_type": "code",
   "execution_count": null,
   "id": "043c3dbf-68ef-4b5a-88d7-84503329e13a",
   "metadata": {},
   "outputs": [],
   "source": [
    "X = full_dataset.drop(columns=['label'])  # Features\n",
    "y = full_dataset['label']  # Labels"
   ]
  },
  {
   "cell_type": "markdown",
   "id": "234ca6ea-2cf3-4ad3-8bf9-5c279f3eab6d",
   "metadata": {},
   "source": [
    "## Split Data into Training and Testing Sets"
   ]
  },
  {
   "cell_type": "code",
   "execution_count": null,
   "id": "27e18f49-0bed-4e4a-bf07-0211ee91c72c",
   "metadata": {},
   "outputs": [],
   "source": [
    "from sklearn.model_selection import train_test_split\n",
    "\n",
    "X_train, X_test, y_train, y_test = train_test_split(X, y, test_size=0.2, random_state=42)"
   ]
  },
  {
   "cell_type": "markdown",
   "id": "126352cb-0eb9-4b2a-9eb8-26568526147b",
   "metadata": {},
   "source": [
    "## Train and Evaluate Your Model"
   ]
  },
  {
   "cell_type": "code",
   "execution_count": null,
   "id": "15dd69fa-af60-4897-971a-ca679c2004a4",
   "metadata": {},
   "outputs": [],
   "source": [
    "# Example: Use a scikit-learn classifier (replace with your chosen algorithm)\n",
    "from sklearn.ensemble import RandomForestClassifier\n",
    "from sklearn.metrics import accuracy_score\n",
    "\n",
    "model = RandomForestClassifier(random_state=42)\n",
    "model.fit(X_train, y_train)\n",
    "\n",
    "y_pred = model.predict(X_test)\n",
    "accuracy = accuracy_score(y_test, y_pred)\n",
    "print(f\"Model Accuracy: {accuracy}\")"
   ]
  }
 ],
 "metadata": {
  "kernelspec": {
   "display_name": "Python 3 (ipykernel)",
   "language": "python",
   "name": "python3"
  },
  "language_info": {
   "codemirror_mode": {
    "name": "ipython",
    "version": 3
   },
   "file_extension": ".py",
   "mimetype": "text/x-python",
   "name": "python",
   "nbconvert_exporter": "python",
   "pygments_lexer": "ipython3",
   "version": "3.10.12"
  }
 },
 "nbformat": 4,
 "nbformat_minor": 5
}
