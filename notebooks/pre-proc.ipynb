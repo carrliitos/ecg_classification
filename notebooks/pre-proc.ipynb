{
 "cells": [
  {
   "cell_type": "code",
   "execution_count": 1,
   "id": "ce7e0922-c7ca-45b0-a57f-e5fb7336b8be",
   "metadata": {},
   "outputs": [],
   "source": [
    "import os\n",
    "import wfdb\n",
    "import pandas as pd"
   ]
  },
  {
   "cell_type": "code",
   "execution_count": 2,
   "id": "a558b1b5-3e31-4710-8cb3-843e6db73900",
   "metadata": {},
   "outputs": [],
   "source": [
    "raw_data_directory = '../data/raw/ecg-id-database-1.0.0/'\n",
    "processed_data_directory = '../data/processed/ecg-id-database-1.0.0/'"
   ]
  },
  {
   "cell_type": "code",
   "execution_count": 3,
   "id": "837604cd-74dd-4f8c-8e1a-c74949213e6f",
   "metadata": {},
   "outputs": [],
   "source": [
    "person_directories = [d for d in os.listdir(raw_data_directory) if os.path.isdir(os.path.join(raw_data_directory, d))]\n",
    "\n",
    "for person_dir in person_directories:\n",
    "    person_processed_directory = os.path.join(processed_data_directory, person_dir)\n",
    "    os.makedirs(person_processed_directory, exist_ok=True)\n",
    "\n",
    "    dat_files = [f for f in os.listdir(os.path.join(raw_data_directory, person_dir)) if f.endswith('.dat')]\n",
    "\n",
    "    for dat_file in dat_files:\n",
    "        dat_file_path = os.path.join(raw_data_directory, person_dir, dat_file)\n",
    "        \n",
    "        record = wfdb.rdrecord(os.path.splitext(dat_file_path)[0])\n",
    "\n",
    "        signals = record.p_signal\n",
    "        signal_names = record.sig_name\n",
    "\n",
    "        ecg_filtered_index = signal_names.index(\"ECG I filtered\")\n",
    "\n",
    "        ecg_filtered_signal = signals[:, ecg_filtered_index]\n",
    "\n",
    "        df = pd.DataFrame(data=ecg_filtered_signal, columns=[\"ECG_I_filtered\"])\n",
    "\n",
    "        csv_file_path = os.path.join(person_processed_directory, os.path.splitext(dat_file)[0] + '.csv')\n",
    "\n",
    "        df.to_csv(csv_file_path, index=False)"
   ]
  }
 ],
 "metadata": {
  "kernelspec": {
   "display_name": "Python 3 (ipykernel)",
   "language": "python",
   "name": "python3"
  },
  "language_info": {
   "codemirror_mode": {
    "name": "ipython",
    "version": 3
   },
   "file_extension": ".py",
   "mimetype": "text/x-python",
   "name": "python",
   "nbconvert_exporter": "python",
   "pygments_lexer": "ipython3",
   "version": "3.10.12"
  }
 },
 "nbformat": 4,
 "nbformat_minor": 5
}
