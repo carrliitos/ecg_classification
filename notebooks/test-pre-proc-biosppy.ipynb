{
 "cells": [
  {
   "cell_type": "code",
   "execution_count": 5,
   "id": "347b1d15-3dd1-4eac-b24b-6b622c43ba5a",
   "metadata": {},
   "outputs": [],
   "source": [
    "import os\n",
    "import numpy as np\n",
    "import pywt\n",
    "import biosppy.signals.ecg as ecg"
   ]
  },
  {
   "cell_type": "code",
   "execution_count": 2,
   "id": "02a7dc1b-6629-406b-b50b-88ff6abfb871",
   "metadata": {},
   "outputs": [],
   "source": [
    "raw_data_path = \"/home/carlitos/Documents/Projects/ecg_classification/data/raw/ecg-id-database-1.0.0\"\n",
    "processed_data_path = \"/home/carlitos/Documents/Projects/ecg_classification/data/processed\"\n",
    "\n",
    "if not os.path.exists(processed_data_path):\n",
    "    os.makedirs(processed_data_path)"
   ]
  },
  {
   "cell_type": "code",
   "execution_count": 6,
   "id": "f6ec6f47-3f3e-4887-a463-5e9c4886d0eb",
   "metadata": {},
   "outputs": [],
   "source": [
    "def preprocess_ecg(file_path, output_path):\n",
    "    # Load ECG data using biosppy's load_dat function\n",
    "    data, header = biosppy.tools.load_dat(file_path)\n",
    "\n",
    "    # Perform R-peaks detection using biosppy\n",
    "    rpeaks = ecg.hamilton_segmenter(data[:, 1], sampling_rate=header['sampling_rate'])['rpeaks']\n",
    "\n",
    "    # Perform wavelet thresholding for denoising\n",
    "    wavelet = 'sym4'\n",
    "    level = 4\n",
    "    coeffs = pywt.wavedec(data[:, 1], wavelet, level=level)\n",
    "\n",
    "    # Set a threshold value based on the noise standard deviation\n",
    "    threshold = np.sqrt(2 * np.log(len(data[:, 1]))) * np.std(coeffs[-1])\n",
    "\n",
    "    # Threshold the wavelet coefficients\n",
    "    coeffs_thresholded = [pywt.threshold(c, threshold, mode='soft') for c in coeffs]\n",
    "\n",
    "    # Reconstruct the denoised signal\n",
    "    denoised_ecg = pywt.waverec(coeffs_thresholded, wavelet)\n",
    "\n",
    "    # Remove artifacts (simple peak detection and removal)\n",
    "    cleaned_ecg = np.delete(denoised_ecg, rpeaks)\n",
    "\n",
    "    # Save pre-processed data\n",
    "    np.savetxt(output_path, cleaned_ecg)"
   ]
  },
  {
   "cell_type": "code",
   "execution_count": 7,
   "id": "10b32dcd-3d73-456f-8f5d-2b596d664210",
   "metadata": {},
   "outputs": [
    {
     "name": "stdout",
     "output_type": "stream",
     "text": [
      "Pre-processing complete.\n"
     ]
    }
   ],
   "source": [
    "for person_folder in os.listdir(raw_data_path):\n",
    "    person_path = os.path.join(raw_data_path, person_folder)\n",
    "    \n",
    "    if os.path.isdir(person_path):\n",
    "        for record_file in os.listdir(person_path):\n",
    "            if record_file.endswith(\".dat\"):\n",
    "                record_file_path = os.path.join(person_path, record_file)\n",
    "                output_file_path = os.path.join(processed_data_path, f\"{person_folder}_{os.path.splitext(record_file)[0]}_processed.txt\")\n",
    "\n",
    "                preprocess_ecg(record_file_path, output_file_path)\n",
    "\n",
    "print(\"Pre-processing complete.\")"
   ]
  },
  {
   "cell_type": "code",
   "execution_count": null,
   "id": "39a9d8db-6bf0-4eb0-8836-fb05c8fd8d4f",
   "metadata": {},
   "outputs": [],
   "source": []
  }
 ],
 "metadata": {
  "kernelspec": {
   "display_name": "Python 3 (ipykernel)",
   "language": "python",
   "name": "python3"
  },
  "language_info": {
   "codemirror_mode": {
    "name": "ipython",
    "version": 3
   },
   "file_extension": ".py",
   "mimetype": "text/x-python",
   "name": "python",
   "nbconvert_exporter": "python",
   "pygments_lexer": "ipython3",
   "version": "3.10.12"
  }
 },
 "nbformat": 4,
 "nbformat_minor": 5
}
